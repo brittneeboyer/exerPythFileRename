{
 "cells": [
  {
   "cell_type": "code",
   "execution_count": 1,
   "source": [
    "import os"
   ],
   "outputs": [],
   "metadata": {}
  },
  {
   "cell_type": "code",
   "execution_count": 4,
   "source": [
    "print(os.getcwd())"
   ],
   "outputs": [
    {
     "output_type": "stream",
     "name": "stdout",
     "text": [
      "/Users/brittneewestra/Documents/UoU Fall 2021/CompSci/Week4/exerPythFileRename\n"
     ]
    }
   ],
   "metadata": {}
  },
  {
   "cell_type": "code",
   "execution_count": 17,
   "source": [
    "os.chdir('/Users/brittneewestra/Documents/UoU Fall 2021/CompSci/Week4/FileRenameFiles')\n",
    "print(os.getcwd())"
   ],
   "outputs": [
    {
     "output_type": "stream",
     "name": "stdout",
     "text": [
      "/Users/brittneewestra/Documents/UoU Fall 2021/CompSci/Week4/FileRenameFiles\n"
     ]
    }
   ],
   "metadata": {}
  },
  {
   "cell_type": "code",
   "execution_count": 18,
   "source": [
    "for f in os.listdir():\n",
    "    print(f)"
   ],
   "outputs": [
    {
     "output_type": "stream",
     "name": "stdout",
     "text": [
      "Venus - Our solar system - #3.txt\n",
      "Mercury - Our solar system - #2.txt\n",
      "Mars - Our solar system - #5.txt\n",
      "Pluto - Our solar system - #10.txt\n",
      "Neptune - Our solar system - #8.txt\n",
      "Jupiter - Our solar system - #6.txt\n",
      "Uranus - Our solar system - #9.txt\n",
      "Earth - Our solar system - #4.txt\n",
      "Saturn - Our solar system - #7.txt\n",
      "The Sun - Our solar system - #1.txt\n"
     ]
    }
   ],
   "metadata": {}
  },
  {
   "cell_type": "code",
   "execution_count": 19,
   "source": [
    "for f in os.listdir():\n",
    "    file_name, file_ext = os.path.splitext(f)\n",
    "    print(file_name)"
   ],
   "outputs": [
    {
     "output_type": "stream",
     "name": "stdout",
     "text": [
      "Venus - Our solar system - #3\n",
      "Mercury - Our solar system - #2\n",
      "Mars - Our solar system - #5\n",
      "Pluto - Our solar system - #10\n",
      "Neptune - Our solar system - #8\n",
      "Jupiter - Our solar system - #6\n",
      "Uranus - Our solar system - #9\n",
      "Earth - Our solar system - #4\n",
      "Saturn - Our solar system - #7\n",
      "The Sun - Our solar system - #1\n"
     ]
    }
   ],
   "metadata": {}
  },
  {
   "cell_type": "code",
   "execution_count": 20,
   "source": [
    "for f in os.listdir():\n",
    "    file_name, file_ext = os.path.splitext(f)\n",
    "    print(file_name.split('-'))"
   ],
   "outputs": [
    {
     "output_type": "stream",
     "name": "stdout",
     "text": [
      "['Venus ', ' Our solar system ', ' #3']\n",
      "['Mercury ', ' Our solar system ', ' #2']\n",
      "['Mars ', ' Our solar system ', ' #5']\n",
      "['Pluto ', ' Our solar system ', ' #10']\n",
      "['Neptune ', ' Our solar system ', ' #8']\n",
      "['Jupiter ', ' Our solar system ', ' #6']\n",
      "['Uranus ', ' Our solar system ', ' #9']\n",
      "['Earth ', ' Our solar system ', ' #4']\n",
      "['Saturn ', ' Our solar system ', ' #7']\n",
      "['The Sun ', ' Our solar system ', ' #1']\n"
     ]
    }
   ],
   "metadata": {}
  },
  {
   "cell_type": "code",
   "execution_count": 21,
   "source": [
    "for f in os.listdir():\n",
    "    file_name, file_ext = os.path.splitext(f)\n",
    "    \n",
    "    f_title, f_course, f_num = file_name.split('-')\n",
    "    print(f_title)"
   ],
   "outputs": [
    {
     "output_type": "stream",
     "name": "stdout",
     "text": [
      "Venus \n",
      "Mercury \n",
      "Mars \n",
      "Pluto \n",
      "Neptune \n",
      "Jupiter \n",
      "Uranus \n",
      "Earth \n",
      "Saturn \n",
      "The Sun \n"
     ]
    }
   ],
   "metadata": {}
  },
  {
   "cell_type": "code",
   "execution_count": 22,
   "source": [
    "for f in os.listdir():\n",
    "    file_name, file_ext = os.path.splitext(f)\n",
    "    \n",
    "    f_title, f_course, f_num = file_name.split('-')\n",
    "    print(f_course)"
   ],
   "outputs": [
    {
     "output_type": "stream",
     "name": "stdout",
     "text": [
      " Our solar system \n",
      " Our solar system \n",
      " Our solar system \n",
      " Our solar system \n",
      " Our solar system \n",
      " Our solar system \n",
      " Our solar system \n",
      " Our solar system \n",
      " Our solar system \n",
      " Our solar system \n"
     ]
    }
   ],
   "metadata": {}
  },
  {
   "cell_type": "code",
   "execution_count": 23,
   "source": [
    "for f in os.listdir():\n",
    "    file_name, file_ext = os.path.splitext(f)\n",
    "    \n",
    "    f_title, f_course, f_num = file_name.split('-')\n",
    "    print(f_num)"
   ],
   "outputs": [
    {
     "output_type": "stream",
     "name": "stdout",
     "text": [
      " #3\n",
      " #2\n",
      " #5\n",
      " #10\n",
      " #8\n",
      " #6\n",
      " #9\n",
      " #4\n",
      " #7\n",
      " #1\n"
     ]
    }
   ],
   "metadata": {}
  },
  {
   "cell_type": "code",
   "execution_count": 26,
   "source": [
    "for f in os.listdir():\n",
    "    file_name, file_ext = os.path.splitext(f)\n",
    "    \n",
    "    f_title, f_course, f_num = file_name.split('-')\n",
    "\n",
    "    f_title = f_title.strip()\n",
    "    f_course = f_course.strip()\n",
    "    f_num = f_num.strip()\n",
    "\n",
    "    print('{}-{}-{}{}'.format(f_num, f_course, f_title, file_ext))"
   ],
   "outputs": [
    {
     "output_type": "stream",
     "name": "stdout",
     "text": [
      "#3-Our solar system-Venus.txt\n",
      "#2-Our solar system-Mercury.txt\n",
      "#5-Our solar system-Mars.txt\n",
      "#10-Our solar system-Pluto.txt\n",
      "#8-Our solar system-Neptune.txt\n",
      "#6-Our solar system-Jupiter.txt\n",
      "#9-Our solar system-Uranus.txt\n",
      "#4-Our solar system-Earth.txt\n",
      "#7-Our solar system-Saturn.txt\n",
      "#1-Our solar system-The Sun.txt\n"
     ]
    }
   ],
   "metadata": {}
  },
  {
   "cell_type": "code",
   "execution_count": 27,
   "source": [
    "for f in os.listdir():\n",
    "    file_name, file_ext = os.path.splitext(f)\n",
    "    \n",
    "    f_title, f_course, f_num = file_name.split('-')\n",
    "\n",
    "    f_title = f_title.strip()\n",
    "    f_course = f_course.strip()\n",
    "    f_num = f_num.strip()[1:]\n",
    "\n",
    "    print('{}-{}-{}{}'.format(f_num, f_course, f_title, file_ext))"
   ],
   "outputs": [
    {
     "output_type": "stream",
     "name": "stdout",
     "text": [
      "3-Our solar system-Venus.txt\n",
      "2-Our solar system-Mercury.txt\n",
      "5-Our solar system-Mars.txt\n",
      "10-Our solar system-Pluto.txt\n",
      "8-Our solar system-Neptune.txt\n",
      "6-Our solar system-Jupiter.txt\n",
      "9-Our solar system-Uranus.txt\n",
      "4-Our solar system-Earth.txt\n",
      "7-Our solar system-Saturn.txt\n",
      "1-Our solar system-The Sun.txt\n"
     ]
    }
   ],
   "metadata": {}
  },
  {
   "cell_type": "code",
   "execution_count": 28,
   "source": [
    "for f in os.listdir():\n",
    "    file_name, file_ext = os.path.splitext(f)\n",
    "    \n",
    "    f_title, f_course, f_num = file_name.split('-')\n",
    "\n",
    "    f_title = f_title.strip()\n",
    "    f_course = f_course.strip()\n",
    "    f_num = f_num.strip()[1:].zfill(2)\n",
    "\n",
    "    print('{}-{}-{}{}'.format(f_num, f_course, f_title, file_ext))"
   ],
   "outputs": [
    {
     "output_type": "stream",
     "name": "stdout",
     "text": [
      "03-Our solar system-Venus.txt\n",
      "02-Our solar system-Mercury.txt\n",
      "05-Our solar system-Mars.txt\n",
      "10-Our solar system-Pluto.txt\n",
      "08-Our solar system-Neptune.txt\n",
      "06-Our solar system-Jupiter.txt\n",
      "09-Our solar system-Uranus.txt\n",
      "04-Our solar system-Earth.txt\n",
      "07-Our solar system-Saturn.txt\n",
      "01-Our solar system-The Sun.txt\n"
     ]
    }
   ],
   "metadata": {}
  },
  {
   "cell_type": "code",
   "execution_count": 30,
   "source": [
    "for f in os.listdir():\n",
    "    file_name, file_ext = os.path.splitext(f)\n",
    "    \n",
    "    f_title, f_course, f_num = file_name.split('-')\n",
    "\n",
    "    f_title = f_title.strip()\n",
    "    f_course = f_course.strip()\n",
    "    f_num = f_num.strip()[1:].zfill(2)\n",
    "\n",
    "    print('{}-{}{}'.format(f_num, f_title, file_ext))"
   ],
   "outputs": [
    {
     "output_type": "stream",
     "name": "stdout",
     "text": [
      "03-Venus.txt\n",
      "02-Mercury.txt\n",
      "05-Mars.txt\n",
      "10-Pluto.txt\n",
      "08-Neptune.txt\n",
      "06-Jupiter.txt\n",
      "09-Uranus.txt\n",
      "04-Earth.txt\n",
      "07-Saturn.txt\n",
      "01-The Sun.txt\n"
     ]
    }
   ],
   "metadata": {}
  },
  {
   "cell_type": "code",
   "execution_count": 31,
   "source": [
    "for f in os.listdir():\n",
    "    file_name, file_ext = os.path.splitext(f)\n",
    "    \n",
    "    f_title, f_course, f_num = file_name.split('-')\n",
    "\n",
    "    f_title = f_title.strip()\n",
    "    f_course = f_course.strip()\n",
    "    f_num = f_num.strip()[1:].zfill(2)\n",
    "\n",
    "    new_name = '{}-{}{}'.format(f_num, f_title, file_ext)\n",
    "\n",
    "    os.rename(f, new_name)"
   ],
   "outputs": [],
   "metadata": {}
  }
 ],
 "metadata": {
  "orig_nbformat": 4,
  "language_info": {
   "name": "python",
   "version": "3.8.8",
   "mimetype": "text/x-python",
   "codemirror_mode": {
    "name": "ipython",
    "version": 3
   },
   "pygments_lexer": "ipython3",
   "nbconvert_exporter": "python",
   "file_extension": ".py"
  },
  "kernelspec": {
   "name": "python3",
   "display_name": "Python 3.8.8 64-bit ('base': conda)"
  },
  "interpreter": {
   "hash": "3567bed7152f26f8d124a127a462f9235dcd2ecb101faee2d63a0b4966141328"
  }
 },
 "nbformat": 4,
 "nbformat_minor": 2
}